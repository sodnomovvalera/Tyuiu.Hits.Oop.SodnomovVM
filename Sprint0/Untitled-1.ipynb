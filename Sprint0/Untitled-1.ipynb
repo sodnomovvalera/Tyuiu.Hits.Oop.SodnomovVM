{
 "cells": [
  {
   "cell_type": "code",
   "execution_count": 4,
   "metadata": {
    "dotnet_interactive": {
     "language": "csharp"
    },
    "polyglot_notebook": {
     "kernelName": "csharp"
    }
   },
   "outputs": [],
   "source": [
    "public class Plant \n",
    "{\n",
    "    public string Name {get;set;}\n",
    "    public string Type {get;set;}\n",
    "    public float Height {get;set;}\n",
    "\n",
    "    public Plant(string nname, string type, float height)\n",
    "    {\n",
    "        Name = nname;\n",
    "        Type = type;\n",
    "        Height = height;\n",
    "    }\n",
    "\n",
    "    public virtual void Growing()\n",
    "    {\n",
    "        Console.WriteLine(\"Растение цветет\");\n",
    "    }\n",
    "\n",
    "    public virtual void Rastet(float heightup)\n",
    "    {\n",
    "        Height += heightup;\n",
    "    }\n",
    "\n",
    "}\n",
    "\n",
    "public class Flower: Plant\n",
    "{\n",
    "    public string Color {get;set;}\n",
    "    public int Number {get;set;}\n",
    "\n",
    "    public Flower(string nname, string type, float height, string color, int number) : base(nname, type, height)\n",
    "    {\n",
    "        Color = color;\n",
    "        Number = number;\n",
    "    }\n",
    "\n",
    "    public override void Growing()\n",
    "    {\n",
    "        Console.WriteLine(\"Цветок цветет\");\n",
    "    }\n",
    "    public void Uvyadat()\n",
    "    {\n",
    "        Console.WriteLine(\"Растение увядает\");\n",
    "    }\n",
    "\n",
    "}\n",
    "\n"
   ]
  },
  {
   "cell_type": "code",
   "execution_count": null,
   "metadata": {
    "dotnet_interactive": {
     "language": "csharp"
    },
    "polyglot_notebook": {
     "kernelName": "csharp"
    }
   },
   "outputs": [],
   "source": []
  }
 ],
 "metadata": {
  "kernelspec": {
   "display_name": ".NET (C#)",
   "language": "C#",
   "name": ".net-csharp"
  },
  "polyglot_notebook": {
   "kernelInfo": {
    "defaultKernelName": "csharp",
    "items": [
     {
      "aliases": [],
      "languageName": "csharp",
      "name": "csharp"
     }
    ]
   }
  }
 },
 "nbformat": 4,
 "nbformat_minor": 2
}
