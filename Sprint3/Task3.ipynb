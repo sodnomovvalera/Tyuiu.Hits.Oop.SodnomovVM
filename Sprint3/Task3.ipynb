{
 "cells": [
  {
   "cell_type": "markdown",
   "metadata": {},
   "source": [
    "<h1 style=\"color:DodgerBlue\">Индивидальный проект</h1>"
   ]
  },
  {
   "cell_type": "markdown",
   "metadata": {},
   "source": [
    "<h2 style=\"color:DodgerBlue\">Название проекта:</h2>\n",
    "\n",
    "----\n",
    "\n",
    "### Вариант задания 15\n",
    "\n"
   ]
  },
  {
   "cell_type": "markdown",
   "metadata": {},
   "source": [
    "<h2 style=\"color:DodgerBlue\">Описание проекта:</h2>\n",
    "\n",
    "----\n",
    "\n",
    "[Создать базовый класс Inventory в C#, который будет представлять информацию о наличии товаров на складе. На основе этого класса разработать 2-3 производных класса, демонстрирующих принципы наследования и полиморфизма. В каждом из классов должны быть реализованы новые атрибуты и методы, а также переопределены некоторые методы базового класса для демонстрации полиморфизма.\n",
    "\n",
    "Требования к базовому классу Inventory:\n",
    "\n",
    "Атрибуты: ID склада (WarehouseId), Название склада (WarehouseName), Общий объем хранения (StorageCapacity).\n",
    "\n",
    "Методы:\n",
    "\n",
    "• GetStorageStatus(): метод для получения статуса доступного пространства на складе.\n",
    "\n",
    "• AddItem(Item item): метод для добавления товара на склад.\n",
    "\n",
    "• RemoveItem(Item item): метод для удаления товара со склада.\n",
    "\n",
    "Требования к производным классам:\n",
    "\n",
    "ПерсональныйСклад (PersonalInventory): Должен содержать дополнительные атрибуты, такие как Владелец склада (OwnerName). Метод GetStorageStatus() должен быть переопределен для отображения информации о владельце склада вместе с статусом хранения.\n",
    "ГрупповойСклад (GroupInventory): Должен содержать дополнительные атрибуты, такие как Группа товаров (ProductGroup). Метод AddItem() должен быть переопределен для добавления информации о группе товаров при добавлении нового товара.\n",
    "АвтоматизированныйСклад (AutomatedInventory) (если требуется третий класс): Должен содержать дополнительные атрибуты, такие как Автоматизация уровня (AutomationLevel). Метод RemoveItem() должен быть переопределен для добавления информации о уровне автоматизации при удалении товара.]\n",
    "\n",
    "#### Дополнительное задание\n",
    "Добавьте к сущестующим классам (базовыму и производным 3-4 атрибута и метода) и реализуйте полиморфизм с перекрытием и прегегрузкой методов, а также generic классы"
   ]
  },
  {
   "cell_type": "markdown",
   "metadata": {},
   "source": [
    "<h2 style=\"color:DodgerBlue\">Реализация:</h2>\n",
    "\n",
    "----"
   ]
  },
  {
   "cell_type": "code",
   "execution_count": null,
   "metadata": {
    "dotnet_interactive": {
     "language": "csharp"
    },
    "polyglot_notebook": {
     "kernelName": "csharp"
    }
   },
   "outputs": [],
   "source": [
    "abstract class Component\n",
    "{\n",
    "    public abstract string GetInfo();\n",
    "    public override string ToString() => GetInfo();\n",
    "}\n",
    "\n",
    "class CPU : Component, IInstallable\n",
    "{\n",
    "    public override string GetInfo() => \"Информация о CPU\";\n",
    "    public void Install() { /* Установка CPU */ }\n",
    "    public static bool operator ==(CPU a, CPU b) => /* Сравнение */;\n",
    "    public static bool operator !=(CPU a, CPU b) => /* Сравнение */;\n",
    "}\n",
    "\n",
    "class RAM : Component, IInstallable\n",
    "{\n",
    "    public override string GetInfo() => \"Информация о RAM\";\n",
    "    public void Install() { /* Установка RAM */ }\n",
    "    public static bool operator ==(RAM a, RAM b) => /* Сравнение */;\n",
    "    public static bool operator !=(RAM a, RAM b) => /* Сравнение */;\n",
    "}\n",
    "\n",
    "// Аналогично для GPU и HDD\n",
    "\n",
    "interface IInstallable\n",
    "{\n",
    "    void Install();\n",
    "}\n",
    "\n",
    "class Computer\n",
    "{\n",
    "    private List<Component> components = new List<Component>();\n",
    "\n",
    "    public void AddComponent<T>(T component) where T : Component, IInstallable\n",
    "    {\n",
    "        components.Add(component);\n",
    "        component.Install();  // Вызов метода установки\n",
    "    }\n",
    "\n",
    "    public void RemoveComponent<T>(T component) where T : Component\n",
    "    {\n",
    "        components.Remove(component);\n",
    "    }\n",
    "\n",
    "    public decimal GetTotalPrice() \n",
    "    {\n",
    "        // Суммирование цен компонентов\n",
    "        return components.Sum(c => c.GetPrice()); // В зависимости от наличия метода GetPrice()\n",
    "    }\n",
    "}\n",
    "\n",
    "// Пример консольного приложения\n",
    "class Program\n",
    "{\n",
    "    static void Main()\n",
    "    {\n",
    "        Computer pc = new Computer();\n",
    "        pc.AddComponent(new CPU());\n",
    "        pc.AddComponent(new RAM());\n",
    "        // Добавление других компонентов...\n",
    "    }\n",
    "}"
   ]
  }
 ],
 "metadata": {
  "kernelspec": {
   "display_name": ".NET (C#)",
   "language": "C#",
   "name": ".net-csharp"
  },
  "polyglot_notebook": {
   "kernelInfo": {
    "defaultKernelName": "csharp",
    "items": [
     {
      "aliases": [],
      "languageName": "csharp",
      "name": "csharp"
     }
    ]
   }
  }
 },
 "nbformat": 4,
 "nbformat_minor": 2
}
