{
 "cells": [
  {
   "cell_type": "code",
   "execution_count": 4,
   "metadata": {
    "dotnet_interactive": {
     "language": "csharp"
    },
    "polyglot_notebook": {
     "kernelName": "csharp"
    }
   },
   "outputs": [],
   "source": [
    "public class Product\n",
    "{\n",
    "    private string Name {get;set;}\n",
    "    private decimal Price {get;set;}\n",
    "    private int Quantity {get;set;}\n",
    "    internal string Description {get;set;}\n",
    "    protected string Category {get;set;}\n",
    "\n",
    "    public Product(string name, decimal price, int quantity, string description, string category)\n",
    "    {\n",
    "        Name = name;\n",
    "        Price = price;\n",
    "        Quantity  = quantity;\n",
    "        Description = description;\n",
    "        Category = category;\n",
    "    }\n",
    "\n",
    "    public decimal GetTotalPrice()\n",
    "    {\n",
    "        return Price*Quantity;\n",
    "    }\n",
    "\n",
    "    public void UpdateQuantity(int amount)\n",
    "    {\n",
    "        Quantity += amount;\n",
    "    }\n",
    "    public string GetProduction()\n",
    "    {\n",
    "       return Description;\n",
    "    }\n",
    "\n",
    "}\n",
    "\n",
    "public class Seller: Product\n",
    "{\n",
    "    private string NameSeller {get;set;}\n",
    "    private string Employyed {get;set;}\n",
    "    private decimal Calary {get;set;}\n",
    "    internal string Contactinfo {get;set;} \n",
    "\n",
    "    public Seller (string name, decimal price, int quantity, string description, string category, string nameseller, string employyed, decimal calary, string contactinfo) \n",
    "    : base ( name,price, quantity, description, category)\n",
    "    {\n",
    "        NameSeller = nameseller;\n",
    "        Employyed = employyed;\n",
    "        Calary  = calary;\n",
    "        Contactinfo =  contactinfo;\n",
    "    }\n",
    "    public void SellProduct(Product product, int quantity)\n",
    "    {\n",
    "        Console.WriteLine($\"Sold {quantity} pt of {product}\");\n",
    "\n",
    "    }\n",
    "\n",
    "    public string GetSellerInfo()\n",
    "    {\n",
    "        return $\"Seller: {NameSeller}, Employyed ID {Employyed}, Salary {Calary}\";\n",
    "    }\n",
    "   \n",
    "\n",
    "}\n",
    "\n",
    "public class Store\n",
    "{\n",
    "    private string StoreName {get;set;}\n",
    "\n",
    "    private string Location {get; set;}\n",
    "\n",
    "    public string StoreHouse{get;set;}\n",
    "\n",
    "    private Seller seller {get;set;}\n",
    "\n",
    "    private Product product {get;set;}\n",
    "\n",
    "    private List <string> products;\n",
    "\n",
    "    public Store(string storeName, string location, string storeHouse)\n",
    "    {\n",
    "        this.StoreName = storeName;\n",
    "        this.Location = location;\n",
    "        this.StoreHouse = storeHouse;\n",
    "        this.products = new List<string>();\n",
    "    }\n",
    "\n",
    "    public void AddProducts (string productName, decimal price, int quantity)\n",
    "    {\n",
    "        string productInfo = $\"Product: {productName}, Price: {price}, Quantity{quantity}\";\n",
    "        products.Add(productInfo);\n",
    "        Console.WriteLine($\"Added {productInfo}\");\n",
    "        \n",
    "    }\n",
    "    public void ListProducts()\n",
    "    {\n",
    "        Console.WriteLine(($\"Products in the store:{product}\"));\n",
    "        \n",
    "    }\n",
    "    public string GetStoreInfo()\n",
    "    {\n",
    "        return $\"Store {StoreName}, Location {Location}, House {StoreHouse}\";\n",
    "    }\n",
    "}\n",
    "\n"
   ]
  },
  {
   "cell_type": "code",
   "execution_count": null,
   "metadata": {
    "dotnet_interactive": {
     "language": "csharp"
    },
    "polyglot_notebook": {
     "kernelName": "csharp"
    }
   },
   "outputs": [],
   "source": []
  }
 ],
 "metadata": {
  "kernelspec": {
   "display_name": ".NET (C#)",
   "language": "C#",
   "name": ".net-csharp"
  },
  "polyglot_notebook": {
   "kernelInfo": {
    "defaultKernelName": "csharp",
    "items": [
     {
      "aliases": [],
      "languageName": "csharp",
      "name": "csharp"
     }
    ]
   }
  }
 },
 "nbformat": 4,
 "nbformat_minor": 2
}
